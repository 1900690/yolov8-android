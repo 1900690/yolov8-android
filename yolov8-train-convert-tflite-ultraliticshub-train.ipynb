{
  "cells": [
    {
      "cell_type": "markdown",
      "metadata": {
        "id": "view-in-github",
        "colab_type": "text"
      },
      "source": [
        "<a href=\"https://colab.research.google.com/github/1900690/yolov8-android/blob/main/yolov8-train-convert-tflite-ultraliticshub-train.ipynb\" target=\"_parent\"><img src=\"https://colab.research.google.com/assets/colab-badge.svg\" alt=\"Open In Colab\"/></a>"
      ]
    },
    {
      "cell_type": "markdown",
      "metadata": {
        "id": "oe9vkEvFABbN"
      },
      "source": [
        "# スマホ・スマートグラス向け物体検出アプリ開発\n",
        "\n",
        "---\n",
        "学習済みのYOLOv8というAIモデルを、スマホアプリで使えるようにします。このアプリは、普通のスマホだけでなく、スマートグラスにもインストールできます。最終的に、GoogleのAndroidアプリとして使える` .apk` ファイルが完成します。\n",
        "\n",
        "\n",
        "\n",
        "\n"
      ]
    },
    {
      "cell_type": "markdown",
      "source": [
        "##学習済みTensor Flow liteモデルをエクスポート\n",
        "\n",
        "以下の手順でモデルをエクスポートした後、\"アプリを作成\"章から進んでください\n",
        "1.   Ultralitics Hubのwebページでprojectsを選択\n",
        "2.   作成したプロジェクトを選択\n",
        "3.   学習したモデルを選択\n",
        "4.   下の画像のようにDeployタブを選択\n",
        "5.   下の画像のようにTensor Flow liteを選択しモデルをダウンロード\n",
        "\n",
        "<p align=\"center\">\n",
        "  <img src=\"https://github.com/1900690/yolov8-android/blob/main/images/1.png?raw=1\" width=80%>\n",
        "</p>"
      ],
      "metadata": {
        "id": "IYumXZC3bEB8"
      }
    },
    {
      "cell_type": "markdown",
      "source": [
        "##android studioをインストール\n",
        "\n",
        "Androidアプリを開発するための公式の開発ツール。[インストールチュートリアル](https://developer.android.com/codelabs/basic-android-kotlin-compose-install-android-studio?hl=ja#0)に従ってインストールする"
      ],
      "metadata": {
        "id": "IPgKZ8zrATZR"
      }
    },
    {
      "cell_type": "markdown",
      "source": [
        "##画像解析アプリ作成用パッケージをダウンロード\n",
        "[ここ](https://github.com/1900690/yolov8-android/releases/download/android_app/android_app.zip)をクリックして必要なパッケージをダウンロードする。ダウンロードしたら解凍すること。\n"
      ],
      "metadata": {
        "id": "JfjHFJ0I-oIH"
      }
    },
    {
      "cell_type": "markdown",
      "source": [
        "##パッケージを開く\n",
        "<p align=\"center\">\n",
        "  <img src=\"https://github.com/1900690/yolov8-android/blob/main/images/%E8%A7%A3%E8%AA%AC%EF%BC%92.png?raw=1\" width=80%>\n",
        " <br>\n",
        "  android studioを開いたら、右上の[open]をクリックして、先ほどダウンロードしたパッケージの[android_app]を選択して[OK]を押す\n",
        "</p>"
      ],
      "metadata": {
        "id": "rHuM5XdnHaP4"
      }
    },
    {
      "cell_type": "markdown",
      "source": [
        "##学習したAIに置き換える\n",
        "1.   \\android_app\\app\\src\\main\\assetsの中の`labels.txt`を開き検出したいclassの名前に書き換える\n",
        "2.   ダウンロードしておいた学習済みモデルの名前を`model.tflite`と書き換え\\android_app\\app\\src\\main\\assetsの中に入れる\n",
        "\n"
      ],
      "metadata": {
        "id": "8apH-hkXJ4nv"
      }
    },
    {
      "cell_type": "markdown",
      "source": [
        "##変更を更新する\n",
        "<p align=\"center\">\n",
        "  <img src=\"https://github.com/1900690/yolov8-android/blob/main/images/%E8%A7%A3%E8%AA%AC%EF%BC%93.png?raw=1\" width=50%>\n",
        " <br>\n",
        "  右上の象のマークをクリックして同期する\n",
        "\n",
        "\n"
      ],
      "metadata": {
        "id": "Sly0nnVyKjcK"
      }
    },
    {
      "cell_type": "markdown",
      "source": [
        "##`.apk`ファイルを作成\n",
        "</p>\n",
        "<p align=\"center\">\n",
        "  <img src=\"https://github.com/1900690/yolov8-android/blob/main/images/%E8%A7%A3%E8%AA%AC%EF%BC%94.png?raw=1\" width=50%>\n",
        " <br>\n",
        "  左上のメニューバーから`Build`→`Build App Bundle(s)/APK(s)`→`Build APK(s)`をクリックしてAPKファイルを作成\n",
        "</p>"
      ],
      "metadata": {
        "id": "Fm2VCQgOg_Pl"
      }
    },
    {
      "cell_type": "markdown",
      "source": [
        "##アプリインストール\n",
        "\n",
        "1.   \\android_app\\app\\build\\outputs\\apk\\debugの中にある作成した[APKファイル](https://gimo.jp/glossary/details/apk_file.html#:~:text=APK%E3%83%95%E3%82%A1%E3%82%A4%E3%83%AB-,APK%E3%83%95%E3%82%A1%E3%82%A4%E3%83%AB,%E3%81%AE%E7%95%A5%E7%A7%B0%E3%81%A7%E3%81%99%E3%80%82%E6%8B%A1%E5%BC%B5%E5%AD%90%E3%81%8CAPK%E3%81%AE%E3%83%95%E3%82%A1%E3%82%A4%E3%83%AB%E3%81%A8%E3%81%AA%E3%82%8A%E3%81%BE%E3%81%99%E3%80%82,-Android%E3%82%B9%E3%83%9E%E3%83%BC%E3%83%88%E3%83%95%E3%82%A9%E3%83%B3)\n",
        "をアプリインストールさせたいアンドロイドスマホやスマートグラスへ移動させる\n",
        "2.   [インストール許可](https://gimo.jp/glossary/details/apk_file.html#:~:text=%E9%80%9A%E5%B8%B8APK%E3%83%95%E3%82%A1%E3%82%A4%E3%83%AB%E3%81%AFGoogle%20Play%E3%81%A8%E3%81%84%E3%81%86%E6%AD%A3%E5%BC%8F%E3%81%AA%E9%85%8D%E5%B8%83%E5%85%83%E3%81%8B%E3%82%89%E3%83%87%E3%82%B8%E3%82%BF%E3%83%AB%E7%BD%B2%E5%90%8D%E4%BB%98%E3%81%8D%E3%81%AE%E3%82%82%E3%81%AE%E3%82%92%E3%82%A4%E3%83%B3%E3%82%B9%E3%83%88%E3%83%BC%E3%83%AB%E3%81%97%E3%81%BE%E3%81%99%E3%80%82%E3%81%97%E3%81%8B%E3%81%97%E3%80%81%E8%87%AA%E8%BA%AB%E3%81%8C%E3%83%97%E3%83%AD%E3%82%B0%E3%83%A9%E3%83%9F%E3%83%B3%E3%82%B0%E3%81%AB%E3%82%88%E3%81%A3%E3%81%A6%E4%BD%9C%E8%A3%BD%E3%81%97%E3%81%9FAPK%E3%83%95%E3%82%A1%E3%82%A4%E3%83%AB%E3%81%AF%E9%9D%9E%E5%85%AC%E5%BC%8F%E3%81%AEAPK%E3%81%A8%E3%81%AA%E3%82%8A%E3%81%BE%E3%81%99%E3%81%AE%E3%81%A7%E3%80%81%E3%81%93%E3%82%8C%E3%82%92%E3%82%A4%E3%83%B3%E3%82%B9%E3%83%88%E3%83%BC%E3%83%AB%E3%81%99%E3%82%8B%E5%A0%B4%E5%90%88%E3%81%AF%E3%80%81%E3%82%B9%E3%83%9E%E3%83%BC%E3%83%88%E3%83%95%E3%82%A9%E3%83%B3%E7%AB%AF%E6%9C%AB%E3%81%8B%E3%82%89%E3%80%8C%E8%A8%AD%E5%AE%9A%E3%80%8D%E2%86%92%E3%80%8C%E3%82%BB%E3%82%AD%E3%83%A5%E3%83%AA%E3%83%86%E3%82%A3%E3%80%8D%E2%86%92%E3%80%8C%E6%8F%90%E4%BE%9B%E5%85%83%E4%B8%8D%E6%98%8E%E3%81%AE%E3%82%A2%E3%83%97%E3%83%AA%E3%80%8D%E3%81%A7%E3%82%A4%E3%83%B3%E3%82%B9%E3%83%88%E3%83%BC%E3%83%AB%E8%A8%B1%E5%8F%AF%E3%82%92%E8%A8%AD%E5%AE%9A%E3%81%99%E3%82%8B%E5%BF%85%E8%A6%81%E3%81%8C%E3%81%82%E3%82%8A%E3%81%BE%E3%81%99%E3%80%82)を設定してインストールする\n",
        "\n"
      ],
      "metadata": {
        "id": "kjjftRfGNagG"
      }
    },
    {
      "cell_type": "markdown",
      "source": [
        "##実行例\n",
        "\n",
        "<p align=\"center\">\n",
        "  <img src=\"https://github.com/1900690/yolov8-android/blob/main/images/%E8%A7%A3%E8%AA%AC%EF%BC%95.png?raw=1\" width=20%>\n",
        "</p>"
      ],
      "metadata": {
        "id": "nDd8hYRsQuQs"
      }
    },
    {
      "cell_type": "markdown",
      "source": [
        "#質問等がある方は以下からどうぞ\n",
        "\n",
        "[質問フォーム](https://forms.gle/hWyfofLkwiWHCjWy8)"
      ],
      "metadata": {
        "id": "nAEB1rJHAD9u"
      }
    },
    {
      "cell_type": "markdown",
      "source": [
        "#参考文献\n",
        "[アプリ作成までの流れの参考:Object detection app using YOLOv8 and Android](https://youtu.be/dl7rCmvIyiI)\n",
        "\n",
        "[参考にしたノートブック:https://github.com/AarohiSingla/Object-Detection-Android-App?tab=readme-ov-file](https://github.com/AarohiSingla/Object-Detection-Android-App?tab=readme-ov-file)"
      ],
      "metadata": {
        "id": "f1bH6TcoFrB5"
      }
    }
  ],
  "metadata": {
    "colab": {
      "provenance": [],
      "toc_visible": true,
      "gpuType": "T4",
      "include_colab_link": true
    },
    "kernelspec": {
      "display_name": "Python 3",
      "name": "python3"
    },
    "language_info": {
      "name": "python"
    }
  },
  "nbformat": 4,
  "nbformat_minor": 0
}