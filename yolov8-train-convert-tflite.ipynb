{
  "cells": [
    {
      "cell_type": "markdown",
      "metadata": {
        "id": "view-in-github",
        "colab_type": "text"
      },
      "source": [
        "<a href=\"https://colab.research.google.com/github/1900690/yolov8-android/blob/main/yolov8-train-convert-tflite.ipynb\" target=\"_parent\"><img src=\"https://colab.research.google.com/assets/colab-badge.svg\" alt=\"Open In Colab\"/></a>"
      ]
    },
    {
      "cell_type": "markdown",
      "metadata": {
        "id": "oe9vkEvFABbN"
      },
      "source": [
        "# カスタムデータセットでYOLOv8の物体検出androidアプリを作成する方法\n",
        "\n",
        "---\n",
        "YOLOv8のnモデルを学習させ、tensorflow lite 型モデルに変換することで、android studio上で、androidスマートフォンとスマートグラスにインストール可能な` .apk` ファイルを作成できます。\n",
        "\n",
        "\n",
        "[参考動画](hサイトs://youtu.be/dl7rCmvIyiI)\n",
        "\n",
        "\n",
        "[参考webサイト](https://github.com/AarohiSingla/Object-Detection-Android-App?tab=readme-ov-file)\n",
        "\n"
      ]
    },
    {
      "cell_type": "markdown",
      "metadata": {
        "id": "FyRdDYkqAKN4"
      },
      "source": [
        "## 始める前に\n"
      ]
    },
    {
      "cell_type": "markdown",
      "source": [
        "####fastlabelで印付き画像をエクスポートする\n",
        "\n",
        "<p align=\"center\">\n",
        "  <img src=\"https://fastlabel.notion.site/image/https%3A%2F%2Ffiles.readme.io%2F0d7e2c2-_2022-06-24_16.14.37.png?table=block&id=70683ebb-9d66-43fc-a849-9dca81ca7a65&spaceId=b09acb41-4740-4d1c-87a6-4fb648f2ad1c&width=2000&userId=&cache=v2\" width=80%>\n",
        " <br>\n",
        "  fastlabelのエクスポートタブで'出力形式'を'YOLO'、'画像出力'を'オリジナル'を選択してエクスポートする\n",
        "</p>"
      ],
      "metadata": {
        "id": "P5BgD1ssrE0S"
      }
    },
    {
      "cell_type": "markdown",
      "source": [
        "####GPUを使用して計算時間の短縮を行う\n",
        "\n",
        "Google Colabでこのノートブックを実行している場合、`ランタイム` -> `ランタイムのタイプを変更` -> `ハードウェアアクセラレータ` に移動し、`GPU`を選択し、`保存`をクリックします。これでノートブックがGPUを使用するようになり、モデルのトレーニング時間が大幅に短縮されます。\n"
      ],
      "metadata": {
        "id": "brE_jf4wZ6Ks"
      }
    },
    {
      "cell_type": "code",
      "source": [
        "#@markdown グーグルドライブへのアクセスを行い、学習した重みの保存場所を確保する。\n",
        "#ドライブマウント\n",
        "from google.colab import drive\n",
        "drive.mount('/content/drive')"
      ],
      "metadata": {
        "id": "ps7syMdSv4mA",
        "outputId": "a829e78d-9553-40d3-a1b2-c8ec73555232",
        "colab": {
          "base_uri": "https://localhost:8080/"
        },
        "cellView": "form"
      },
      "execution_count": null,
      "outputs": [
        {
          "output_type": "stream",
          "name": "stdout",
          "text": [
            "Mounted at /content/drive\n"
          ]
        }
      ]
    },
    {
      "cell_type": "code",
      "source": [
        "#@markdown 学習用のYOLOv8パッケージをインストールする。\n",
        "!git clone https://github.com/ultralytics/ultralytics\n",
        "!pip install -qe ultralytics"
      ],
      "metadata": {
        "id": "AIDN-ixadLqT",
        "outputId": "ad2a4278-23d4-4b87-da62-20ca9ebe1b3a",
        "colab": {
          "base_uri": "https://localhost:8080/"
        },
        "cellView": "form"
      },
      "execution_count": null,
      "outputs": [
        {
          "output_type": "stream",
          "name": "stdout",
          "text": [
            "Cloning into 'ultralytics'...\n",
            "remote: Enumerating objects: 28969, done.\u001b[K\n",
            "remote: Counting objects: 100% (335/335), done.\u001b[K\n",
            "remote: Compressing objects: 100% (177/177), done.\u001b[K\n",
            "remote: Total 28969 (delta 211), reused 255 (delta 158), pack-reused 28634\u001b[K\n",
            "Receiving objects: 100% (28969/28969), 14.66 MiB | 22.54 MiB/s, done.\n",
            "Resolving deltas: 100% (20788/20788), done.\n",
            "  Installing build dependencies ... \u001b[?25l\u001b[?25hdone\n",
            "  Checking if build backend supports build_editable ... \u001b[?25l\u001b[?25hdone\n",
            "  Getting requirements to build editable ... \u001b[?25l\u001b[?25hdone\n",
            "  Preparing editable metadata (pyproject.toml) ... \u001b[?25l\u001b[?25hdone\n",
            "\u001b[2K     \u001b[90m━━━━━━━━━━━━━━━━━━━━━━━━━━━━━━━━━━━━━━━━\u001b[0m \u001b[32m21.3/21.3 MB\u001b[0m \u001b[31m63.6 MB/s\u001b[0m eta \u001b[36m0:00:00\u001b[0m\n",
            "\u001b[?25h  Building editable for ultralytics (pyproject.toml) ... \u001b[?25l\u001b[?25hdone\n"
          ]
        }
      ]
    },
    {
      "cell_type": "code",
      "source": [
        "#@markdown エクスポートしたzipファイルをアップロード\n",
        "\n",
        "#ライブラリをインポート(機能を使えるようにする)\n",
        "import shutil\n",
        "import os\n",
        "from google.colab import files\n",
        "import math\n",
        "\n",
        "\n",
        "#すでにフォルダがある場合は消す\n",
        "if os.path.exists(\"/content/datasets\"):\n",
        "  shutil.rmtree(\"/content/datasets\")\n",
        "\n",
        "#データをアップロード\n",
        "uploaded = files.upload()\n",
        "file_name = list(uploaded.keys())[0]\n",
        "#データを解凍\n",
        "shutil.unpack_archive('/content/'+file_name, '/content/')\n",
        "#zipを消す\n",
        "os.remove('/content/'+file_name)"
      ],
      "metadata": {
        "id": "8BKC_u6bisV5",
        "cellView": "form",
        "outputId": "fe4a7f1e-499e-4fbb-823e-3c9784110e19",
        "colab": {
          "base_uri": "https://localhost:8080/",
          "height": 78
        }
      },
      "execution_count": null,
      "outputs": [
        {
          "output_type": "display_data",
          "data": {
            "text/plain": [
              "<IPython.core.display.HTML object>"
            ],
            "text/html": [
              "\n",
              "     <input type=\"file\" id=\"files-8593e3c2-750f-4ae7-976c-fb7f9d2dd361\" name=\"files[]\" multiple disabled\n",
              "        style=\"border:none\" />\n",
              "     <output id=\"result-8593e3c2-750f-4ae7-976c-fb7f9d2dd361\">\n",
              "      Upload widget is only available when the cell has been executed in the\n",
              "      current browser session. Please rerun this cell to enable.\n",
              "      </output>\n",
              "      <script>// Copyright 2017 Google LLC\n",
              "//\n",
              "// Licensed under the Apache License, Version 2.0 (the \"License\");\n",
              "// you may not use this file except in compliance with the License.\n",
              "// You may obtain a copy of the License at\n",
              "//\n",
              "//      http://www.apache.org/licenses/LICENSE-2.0\n",
              "//\n",
              "// Unless required by applicable law or agreed to in writing, software\n",
              "// distributed under the License is distributed on an \"AS IS\" BASIS,\n",
              "// WITHOUT WARRANTIES OR CONDITIONS OF ANY KIND, either express or implied.\n",
              "// See the License for the specific language governing permissions and\n",
              "// limitations under the License.\n",
              "\n",
              "/**\n",
              " * @fileoverview Helpers for google.colab Python module.\n",
              " */\n",
              "(function(scope) {\n",
              "function span(text, styleAttributes = {}) {\n",
              "  const element = document.createElement('span');\n",
              "  element.textContent = text;\n",
              "  for (const key of Object.keys(styleAttributes)) {\n",
              "    element.style[key] = styleAttributes[key];\n",
              "  }\n",
              "  return element;\n",
              "}\n",
              "\n",
              "// Max number of bytes which will be uploaded at a time.\n",
              "const MAX_PAYLOAD_SIZE = 100 * 1024;\n",
              "\n",
              "function _uploadFiles(inputId, outputId) {\n",
              "  const steps = uploadFilesStep(inputId, outputId);\n",
              "  const outputElement = document.getElementById(outputId);\n",
              "  // Cache steps on the outputElement to make it available for the next call\n",
              "  // to uploadFilesContinue from Python.\n",
              "  outputElement.steps = steps;\n",
              "\n",
              "  return _uploadFilesContinue(outputId);\n",
              "}\n",
              "\n",
              "// This is roughly an async generator (not supported in the browser yet),\n",
              "// where there are multiple asynchronous steps and the Python side is going\n",
              "// to poll for completion of each step.\n",
              "// This uses a Promise to block the python side on completion of each step,\n",
              "// then passes the result of the previous step as the input to the next step.\n",
              "function _uploadFilesContinue(outputId) {\n",
              "  const outputElement = document.getElementById(outputId);\n",
              "  const steps = outputElement.steps;\n",
              "\n",
              "  const next = steps.next(outputElement.lastPromiseValue);\n",
              "  return Promise.resolve(next.value.promise).then((value) => {\n",
              "    // Cache the last promise value to make it available to the next\n",
              "    // step of the generator.\n",
              "    outputElement.lastPromiseValue = value;\n",
              "    return next.value.response;\n",
              "  });\n",
              "}\n",
              "\n",
              "/**\n",
              " * Generator function which is called between each async step of the upload\n",
              " * process.\n",
              " * @param {string} inputId Element ID of the input file picker element.\n",
              " * @param {string} outputId Element ID of the output display.\n",
              " * @return {!Iterable<!Object>} Iterable of next steps.\n",
              " */\n",
              "function* uploadFilesStep(inputId, outputId) {\n",
              "  const inputElement = document.getElementById(inputId);\n",
              "  inputElement.disabled = false;\n",
              "\n",
              "  const outputElement = document.getElementById(outputId);\n",
              "  outputElement.innerHTML = '';\n",
              "\n",
              "  const pickedPromise = new Promise((resolve) => {\n",
              "    inputElement.addEventListener('change', (e) => {\n",
              "      resolve(e.target.files);\n",
              "    });\n",
              "  });\n",
              "\n",
              "  const cancel = document.createElement('button');\n",
              "  inputElement.parentElement.appendChild(cancel);\n",
              "  cancel.textContent = 'Cancel upload';\n",
              "  const cancelPromise = new Promise((resolve) => {\n",
              "    cancel.onclick = () => {\n",
              "      resolve(null);\n",
              "    };\n",
              "  });\n",
              "\n",
              "  // Wait for the user to pick the files.\n",
              "  const files = yield {\n",
              "    promise: Promise.race([pickedPromise, cancelPromise]),\n",
              "    response: {\n",
              "      action: 'starting',\n",
              "    }\n",
              "  };\n",
              "\n",
              "  cancel.remove();\n",
              "\n",
              "  // Disable the input element since further picks are not allowed.\n",
              "  inputElement.disabled = true;\n",
              "\n",
              "  if (!files) {\n",
              "    return {\n",
              "      response: {\n",
              "        action: 'complete',\n",
              "      }\n",
              "    };\n",
              "  }\n",
              "\n",
              "  for (const file of files) {\n",
              "    const li = document.createElement('li');\n",
              "    li.append(span(file.name, {fontWeight: 'bold'}));\n",
              "    li.append(span(\n",
              "        `(${file.type || 'n/a'}) - ${file.size} bytes, ` +\n",
              "        `last modified: ${\n",
              "            file.lastModifiedDate ? file.lastModifiedDate.toLocaleDateString() :\n",
              "                                    'n/a'} - `));\n",
              "    const percent = span('0% done');\n",
              "    li.appendChild(percent);\n",
              "\n",
              "    outputElement.appendChild(li);\n",
              "\n",
              "    const fileDataPromise = new Promise((resolve) => {\n",
              "      const reader = new FileReader();\n",
              "      reader.onload = (e) => {\n",
              "        resolve(e.target.result);\n",
              "      };\n",
              "      reader.readAsArrayBuffer(file);\n",
              "    });\n",
              "    // Wait for the data to be ready.\n",
              "    let fileData = yield {\n",
              "      promise: fileDataPromise,\n",
              "      response: {\n",
              "        action: 'continue',\n",
              "      }\n",
              "    };\n",
              "\n",
              "    // Use a chunked sending to avoid message size limits. See b/62115660.\n",
              "    let position = 0;\n",
              "    do {\n",
              "      const length = Math.min(fileData.byteLength - position, MAX_PAYLOAD_SIZE);\n",
              "      const chunk = new Uint8Array(fileData, position, length);\n",
              "      position += length;\n",
              "\n",
              "      const base64 = btoa(String.fromCharCode.apply(null, chunk));\n",
              "      yield {\n",
              "        response: {\n",
              "          action: 'append',\n",
              "          file: file.name,\n",
              "          data: base64,\n",
              "        },\n",
              "      };\n",
              "\n",
              "      let percentDone = fileData.byteLength === 0 ?\n",
              "          100 :\n",
              "          Math.round((position / fileData.byteLength) * 100);\n",
              "      percent.textContent = `${percentDone}% done`;\n",
              "\n",
              "    } while (position < fileData.byteLength);\n",
              "  }\n",
              "\n",
              "  // All done.\n",
              "  yield {\n",
              "    response: {\n",
              "      action: 'complete',\n",
              "    }\n",
              "  };\n",
              "}\n",
              "\n",
              "scope.google = scope.google || {};\n",
              "scope.google.colab = scope.google.colab || {};\n",
              "scope.google.colab._files = {\n",
              "  _uploadFiles,\n",
              "  _uploadFilesContinue,\n",
              "};\n",
              "})(self);\n",
              "</script> "
            ]
          },
          "metadata": {}
        },
        {
          "output_type": "stream",
          "name": "stdout",
          "text": [
            "Saving syakuyaku500_20240626214945.zip to syakuyaku500_20240626214945.zip\n"
          ]
        }
      ]
    },
    {
      "cell_type": "code",
      "source": [
        "#@markdown 画像を学習用と検証用とテスト用に分割\n",
        "\n",
        "#@markdown ※初めに全体をtrainとvalidに分割、分割したtrainからさらにtestを分割する\n",
        "#ライブラリをインポート\n",
        "import shutil\n",
        "import os\n",
        "from sklearn.model_selection import train_test_split\n",
        "import math\n",
        "\n",
        "#分割元のパスを作成\n",
        "originals='/content/original'\n",
        "annotations='/content/yolo/annotations'\n",
        "\n",
        "#分割先のパスを作成\n",
        "train_images = '/content/datasets/train/images'\n",
        "train_labels = '/content/datasets/train/labels'\n",
        "valid_images = '/content/datasets/valid/images'\n",
        "valid_labels = '/content/datasets/valid/labels'\n",
        "test_images = '/content/datasets/test/images'\n",
        "test_labels = '/content/datasets/test/labels'\n",
        "\n",
        "#分割先のファイルを作成\n",
        "if os.path.exists('/content/datasets/'):\n",
        "  shutil.rmtree('/content/datasets/')\n",
        "if not os.path.exists('/content/datasets/'):\n",
        "  os.makedirs(train_images)\n",
        "  os.makedirs(train_labels)\n",
        "  os.makedirs(valid_images)\n",
        "  os.makedirs(valid_labels)\n",
        "  os.makedirs(test_images)\n",
        "  os.makedirs(test_labels)\n",
        "\n",
        "\n",
        "#フォルダの中のファイルのリストを作成\n",
        "read_files_annotations = os.listdir(annotations)\n",
        "read_files_annotations.sort()\n",
        "read_files_originals= os.listdir(originals)\n",
        "read_files_originals.sort()\n",
        "\n",
        "\n",
        "valid分割割合=0.2#@param {type:\"slider\", min:0, max:1, step:0.1}\n",
        "test分割割合=0.1#@param {type:\"slider\", min:0, max:1, step:0.1}\n",
        "\n",
        "#分割割合に合わせてファイルのリストを分割\n",
        "annotations_train_test, annotations_valid, originals_train_test, originals_valid = train_test_split(read_files_annotations,read_files_originals,test_size=valid分割割合)\n",
        "annotations_train, annotations_test, originals_train, originals_test = train_test_split(annotations_train_test,originals_train_test,test_size=test分割割合)\n",
        "\n",
        "\n",
        "#画像とアノテーションを分ける\n",
        "for filename in annotations_train:\n",
        "  shutil.copy( annotations+\"/\"+filename,train_labels)\n",
        "for filename in annotations_valid:\n",
        "  shutil.copy( annotations+\"/\"+filename,valid_labels)\n",
        "for filename in annotations_test:\n",
        "  shutil.copy( annotations+\"/\"+filename,test_labels)\n",
        "\n",
        "for filename in originals_train:\n",
        "  shutil.copy( originals+\"/\"+filename,train_images)\n",
        "for filename in originals_valid:\n",
        "  shutil.copy( originals+\"/\"+filename,valid_images)\n",
        "for filename in originals_test:\n",
        "  shutil.copy( originals+\"/\"+filename,test_images)\n",
        "\n",
        "#最大公約数を計算\n",
        "greatest_common_divisor=math.gcd(sum(os.path.isfile(os.path.join(train_images, name)) for name in os.listdir(train_images)),sum(os.path.isfile(os.path.join(valid_images, name)) for name in os.listdir(valid_images)))\n",
        "\n",
        "#分割されたファイル数を表示\n",
        "print(\"train/imagesは\",sum(os.path.isfile(os.path.join(train_images, name)) for name in os.listdir(train_images)),\"枚\")\n",
        "print(\"train/labelsは\",sum(os.path.isfile(os.path.join(train_labels, name)) for name in os.listdir(train_labels)),\"枚\")\n",
        "print(\"valid/imagesは\",sum(os.path.isfile(os.path.join(valid_images, name)) for name in os.listdir(valid_images)),\"枚\")\n",
        "print(\"valid/labelsは\",sum(os.path.isfile(os.path.join(valid_labels, name)) for name in os.listdir(valid_labels)),\"枚\")\n",
        "print(\"test/imagesは\",sum(os.path.isfile(os.path.join(test_images, name)) for name in os.listdir(test_images)),\"枚\")\n",
        "print(\"test/labelsは\",sum(os.path.isfile(os.path.join(test_labels, name)) for name in os.listdir(test_labels)),\"枚\")\n",
        "print(\"最大公約数は\",greatest_common_divisor,\"<-この数はbatchを決める際に必要\")"
      ],
      "metadata": {
        "colab": {
          "base_uri": "https://localhost:8080/"
        },
        "id": "6JC4WHHscKhd",
        "outputId": "0b7f88e2-0551-4a80-e297-1fae8c9febea",
        "cellView": "form"
      },
      "execution_count": null,
      "outputs": [
        {
          "output_type": "stream",
          "name": "stdout",
          "text": [
            "train/imagesは 72 枚\n",
            "train/labelsは 72 枚\n",
            "valid/imagesは 20 枚\n",
            "valid/labelsは 20 枚\n",
            "test/imagesは 8 枚\n",
            "test/labelsは 8 枚\n",
            "最大公約数は 4 <-この数はbatchを決める際に必要\n"
          ]
        }
      ]
    },
    {
      "cell_type": "markdown",
      "source": [
        "####学習データに関する詳細ファイルを作成"
      ],
      "metadata": {
        "id": "0Pd19EbbOq2x"
      }
    },
    {
      "cell_type": "code",
      "source": [
        "#以下の★の部分を学習目的に応じて書き換える\n",
        "%%writefile /content/datasets/data.yaml\n",
        "\n",
        "#ここは触らない\n",
        "train: ../train/images\n",
        "val: ../valid/images\n",
        "\n",
        "#★検出する項目の数を記載\n",
        "nc: 2\n",
        "\n",
        "#★検出する項目の数だけ項目名を記載する\n",
        "names: ['OK','NG']"
      ],
      "metadata": {
        "colab": {
          "base_uri": "https://localhost:8080/"
        },
        "id": "Bj7nT27CfPhz",
        "outputId": "fa154182-bdc2-4795-8c0f-8e464f4f7dab"
      },
      "execution_count": null,
      "outputs": [
        {
          "output_type": "stream",
          "name": "stdout",
          "text": [
            "Writing /content/datasets/data.yaml\n"
          ]
        }
      ]
    },
    {
      "cell_type": "markdown",
      "source": [
        "## 学習開始\n",
        "下に書いてある項目を設定し、学習をスタートさせる\n",
        "\n",
        "\n",
        "*   epochは学習回数\n",
        "*   [batch](https://qiita.com/kenta1984/items/bad75a37d552510e4682#:~:text=%E3%83%87%E3%82%A3%E3%83%BC%E3%83%97%E3%83%A9%E3%83%BC%E3%83%8B%E3%83%B3%E3%82%B0%E3%81%A7%E3%81%AF,%E3%83%87%E3%83%BC%E3%82%BF%E3%81%AE%E6%95%B0%E3%82%92%E3%83%90%E3%83%83%E3%83%81%E3%82%B5%E3%82%A4%E3%82%BA%E3%81%A8%E5%91%BC%E3%81%B3%E3%81%BE%E3%81%99%E3%80%82)はバッチサイズ（最大公約数に合わせることが多い）\n",
        "*   plotsは学習結果を保存するかどうか（True or False）\n",
        "*   imgszは学習に使う画像のサイズ\n",
        "*   modelは学習に使用するモデル\n",
        "*   dataはそのままで\n",
        "\n"
      ],
      "metadata": {
        "id": "Regkfa-MPKv4"
      }
    },
    {
      "cell_type": "code",
      "execution_count": null,
      "metadata": {
        "colab": {
          "base_uri": "https://localhost:8080/"
        },
        "id": "D2YkphuiaE7_",
        "outputId": "6c79fcb7-a268-43b5-f6bb-f2f4fa72522a"
      },
      "outputs": [
        {
          "output_type": "stream",
          "name": "stdout",
          "text": [
            "/content\n",
            "Downloading https://github.com/ultralytics/assets/releases/download/v8.2.0/yolov8n.pt to '/content/weights/yolov8n.pt'...\n",
            "100% 6.25M/6.25M [00:00<00:00, 135MB/s]\n",
            "Ultralytics YOLOv8.2.48 🚀 Python-3.10.12 torch-2.3.0+cu121 CUDA:0 (Tesla T4, 15102MiB)\n",
            "\u001b[34m\u001b[1mengine/trainer: \u001b[0mtask=detect, mode=train, model=/content/weights/yolov8n.pt, data=/content/datasets/data.yaml, epochs=10, time=None, patience=100, batch=4, imgsz=640, save=True, save_period=-1, cache=False, device=None, workers=8, project=None, name=train2, exist_ok=False, pretrained=True, optimizer=auto, verbose=True, seed=0, deterministic=True, single_cls=False, rect=False, cos_lr=False, close_mosaic=10, resume=False, amp=True, fraction=1.0, profile=False, freeze=None, multi_scale=False, overlap_mask=True, mask_ratio=4, dropout=0.0, val=True, split=val, save_json=False, save_hybrid=False, conf=None, iou=0.7, max_det=300, half=False, dnn=False, plots=True, source=None, vid_stride=1, stream_buffer=False, visualize=False, augment=False, agnostic_nms=False, classes=None, retina_masks=False, embed=None, show=False, save_frames=False, save_txt=False, save_conf=False, save_crop=False, show_labels=True, show_conf=True, show_boxes=True, line_width=None, format=torchscript, keras=False, optimize=False, int8=False, dynamic=False, simplify=False, opset=None, workspace=4, nms=False, lr0=0.01, lrf=0.01, momentum=0.937, weight_decay=0.0005, warmup_epochs=3.0, warmup_momentum=0.8, warmup_bias_lr=0.1, box=7.5, cls=0.5, dfl=1.5, pose=12.0, kobj=1.0, label_smoothing=0.0, nbs=64, hsv_h=0.015, hsv_s=0.7, hsv_v=0.4, degrees=0.0, translate=0.1, scale=0.5, shear=0.0, perspective=0.0, flipud=0.0, fliplr=0.5, bgr=0.0, mosaic=1.0, mixup=0.0, copy_paste=0.0, auto_augment=randaugment, erasing=0.4, crop_fraction=1.0, cfg=None, tracker=botsort.yaml, save_dir=/content/ultralytics/runs/detect/train2\n",
            "Overriding model.yaml nc=80 with nc=2\n",
            "\n",
            "                   from  n    params  module                                       arguments                     \n",
            "  0                  -1  1       464  ultralytics.nn.modules.conv.Conv             [3, 16, 3, 2]                 \n",
            "  1                  -1  1      4672  ultralytics.nn.modules.conv.Conv             [16, 32, 3, 2]                \n",
            "  2                  -1  1      7360  ultralytics.nn.modules.block.C2f             [32, 32, 1, True]             \n",
            "  3                  -1  1     18560  ultralytics.nn.modules.conv.Conv             [32, 64, 3, 2]                \n",
            "  4                  -1  2     49664  ultralytics.nn.modules.block.C2f             [64, 64, 2, True]             \n",
            "  5                  -1  1     73984  ultralytics.nn.modules.conv.Conv             [64, 128, 3, 2]               \n",
            "  6                  -1  2    197632  ultralytics.nn.modules.block.C2f             [128, 128, 2, True]           \n",
            "  7                  -1  1    295424  ultralytics.nn.modules.conv.Conv             [128, 256, 3, 2]              \n",
            "  8                  -1  1    460288  ultralytics.nn.modules.block.C2f             [256, 256, 1, True]           \n",
            "  9                  -1  1    164608  ultralytics.nn.modules.block.SPPF            [256, 256, 5]                 \n",
            " 10                  -1  1         0  torch.nn.modules.upsampling.Upsample         [None, 2, 'nearest']          \n",
            " 11             [-1, 6]  1         0  ultralytics.nn.modules.conv.Concat           [1]                           \n",
            " 12                  -1  1    148224  ultralytics.nn.modules.block.C2f             [384, 128, 1]                 \n",
            " 13                  -1  1         0  torch.nn.modules.upsampling.Upsample         [None, 2, 'nearest']          \n",
            " 14             [-1, 4]  1         0  ultralytics.nn.modules.conv.Concat           [1]                           \n",
            " 15                  -1  1     37248  ultralytics.nn.modules.block.C2f             [192, 64, 1]                  \n",
            " 16                  -1  1     36992  ultralytics.nn.modules.conv.Conv             [64, 64, 3, 2]                \n",
            " 17            [-1, 12]  1         0  ultralytics.nn.modules.conv.Concat           [1]                           \n",
            " 18                  -1  1    123648  ultralytics.nn.modules.block.C2f             [192, 128, 1]                 \n",
            " 19                  -1  1    147712  ultralytics.nn.modules.conv.Conv             [128, 128, 3, 2]              \n",
            " 20             [-1, 9]  1         0  ultralytics.nn.modules.conv.Concat           [1]                           \n",
            " 21                  -1  1    493056  ultralytics.nn.modules.block.C2f             [384, 256, 1]                 \n",
            " 22        [15, 18, 21]  1    751702  ultralytics.nn.modules.head.Detect           [2, [64, 128, 256]]           \n",
            "Model summary: 225 layers, 3011238 parameters, 3011222 gradients, 8.2 GFLOPs\n",
            "\n",
            "Transferred 319/355 items from pretrained weights\n",
            "\u001b[34m\u001b[1mTensorBoard: \u001b[0mStart with 'tensorboard --logdir /content/ultralytics/runs/detect/train2', view at http://localhost:6006/\n",
            "Freezing layer 'model.22.dfl.conv.weight'\n",
            "\u001b[34m\u001b[1mAMP: \u001b[0mrunning Automatic Mixed Precision (AMP) checks with YOLOv8n...\n",
            "Downloading https://github.com/ultralytics/assets/releases/download/v8.2.0/yolov8n.pt to 'yolov8n.pt'...\n",
            "100% 6.25M/6.25M [00:00<00:00, 126MB/s]\n",
            "/usr/local/lib/python3.10/dist-packages/torch/nn/modules/conv.py:456: UserWarning: Plan failed with a cudnnException: CUDNN_BACKEND_EXECUTION_PLAN_DESCRIPTOR: cudnnFinalize Descriptor Failed cudnn_status: CUDNN_STATUS_NOT_SUPPORTED (Triggered internally at ../aten/src/ATen/native/cudnn/Conv_v8.cpp:919.)\n",
            "  return F.conv2d(input, weight, bias, self.stride,\n",
            "\u001b[34m\u001b[1mAMP: \u001b[0mchecks passed ✅\n",
            "\u001b[34m\u001b[1mtrain: \u001b[0mScanning /content/datasets/train/labels... 72 images, 0 backgrounds, 0 corrupt: 100% 72/72 [00:00<00:00, 1304.76it/s]\n",
            "\u001b[34m\u001b[1mtrain: \u001b[0mNew cache created: /content/datasets/train/labels.cache\n",
            "\u001b[34m\u001b[1malbumentations: \u001b[0mBlur(p=0.01, blur_limit=(3, 7)), MedianBlur(p=0.01, blur_limit=(3, 7)), ToGray(p=0.01), CLAHE(p=0.01, clip_limit=(1, 4.0), tile_grid_size=(8, 8))\n",
            "/usr/lib/python3.10/multiprocessing/popen_fork.py:66: RuntimeWarning: os.fork() was called. os.fork() is incompatible with multithreaded code, and JAX is multithreaded, so this will likely lead to a deadlock.\n",
            "  self.pid = os.fork()\n",
            "\u001b[34m\u001b[1mval: \u001b[0mScanning /content/datasets/valid/labels... 20 images, 0 backgrounds, 0 corrupt: 100% 20/20 [00:00<00:00, 1319.21it/s]\n",
            "\u001b[34m\u001b[1mval: \u001b[0mNew cache created: /content/datasets/valid/labels.cache\n",
            "Plotting labels to /content/ultralytics/runs/detect/train2/labels.jpg... \n",
            "\u001b[34m\u001b[1moptimizer:\u001b[0m 'optimizer=auto' found, ignoring 'lr0=0.01' and 'momentum=0.937' and determining best 'optimizer', 'lr0' and 'momentum' automatically... \n",
            "\u001b[34m\u001b[1moptimizer:\u001b[0m AdamW(lr=0.001667, momentum=0.9) with parameter groups 57 weight(decay=0.0), 64 weight(decay=0.0005), 63 bias(decay=0.0)\n",
            "\u001b[34m\u001b[1mTensorBoard: \u001b[0mmodel graph visualization added ✅\n",
            "Image sizes 640 train, 640 val\n",
            "Using 2 dataloader workers\n",
            "Logging results to \u001b[1m/content/ultralytics/runs/detect/train2\u001b[0m\n",
            "Starting training for 10 epochs...\n",
            "Closing dataloader mosaic\n",
            "\u001b[34m\u001b[1malbumentations: \u001b[0mBlur(p=0.01, blur_limit=(3, 7)), MedianBlur(p=0.01, blur_limit=(3, 7)), ToGray(p=0.01), CLAHE(p=0.01, clip_limit=(1, 4.0), tile_grid_size=(8, 8))\n",
            "/usr/lib/python3.10/multiprocessing/popen_fork.py:66: RuntimeWarning: os.fork() was called. os.fork() is incompatible with multithreaded code, and JAX is multithreaded, so this will likely lead to a deadlock.\n",
            "  self.pid = os.fork()\n",
            "\n",
            "      Epoch    GPU_mem   box_loss   cls_loss   dfl_loss  Instances       Size\n",
            "       1/10     0.753G     0.4129      3.635     0.8896          4        640: 100% 18/18 [00:03<00:00,  4.75it/s]\n",
            "                 Class     Images  Instances      Box(P          R      mAP50  mAP50-95): 100% 3/3 [00:01<00:00,  1.58it/s]\n",
            "                   all         20         20    0.00333          1      0.584      0.527\n",
            "\n",
            "      Epoch    GPU_mem   box_loss   cls_loss   dfl_loss  Instances       Size\n",
            "       2/10     0.719G     0.4541      2.533     0.8706          4        640: 100% 18/18 [00:02<00:00,  8.06it/s]\n",
            "                 Class     Images  Instances      Box(P          R      mAP50  mAP50-95): 100% 3/3 [00:00<00:00,  8.28it/s]\n",
            "                   all         20         20    0.00346          1      0.484      0.428\n",
            "\n",
            "      Epoch    GPU_mem   box_loss   cls_loss   dfl_loss  Instances       Size\n",
            "       3/10     0.705G     0.4804      2.385     0.8665          4        640: 100% 18/18 [00:03<00:00,  5.26it/s]\n",
            "                 Class     Images  Instances      Box(P          R      mAP50  mAP50-95): 100% 3/3 [00:00<00:00,  7.27it/s]\n",
            "                   all         20         20      0.437      0.369       0.49      0.426\n",
            "\n",
            "      Epoch    GPU_mem   box_loss   cls_loss   dfl_loss  Instances       Size\n",
            "       4/10     0.719G      0.504      2.374      0.856          4        640: 100% 18/18 [00:02<00:00,  6.06it/s]\n",
            "                 Class     Images  Instances      Box(P          R      mAP50  mAP50-95): 100% 3/3 [00:00<00:00, 14.56it/s]\n",
            "                   all         20         20      0.436      0.702      0.604      0.532\n",
            "\n",
            "      Epoch    GPU_mem   box_loss   cls_loss   dfl_loss  Instances       Size\n",
            "       5/10     0.719G     0.4411        2.3     0.8364          4        640: 100% 18/18 [00:01<00:00, 10.42it/s]\n",
            "                 Class     Images  Instances      Box(P          R      mAP50  mAP50-95): 100% 3/3 [00:00<00:00, 14.02it/s]\n",
            "                   all         20         20      0.492      0.753      0.562        0.5\n",
            "\n",
            "      Epoch    GPU_mem   box_loss   cls_loss   dfl_loss  Instances       Size\n",
            "       6/10     0.719G      0.482      2.248      0.832          4        640: 100% 18/18 [00:03<00:00,  5.91it/s]\n",
            "                 Class     Images  Instances      Box(P          R      mAP50  mAP50-95): 100% 3/3 [00:00<00:00,  6.87it/s]\n",
            "                   all         20         20      0.524      0.996      0.577      0.549\n",
            "\n",
            "      Epoch    GPU_mem   box_loss   cls_loss   dfl_loss  Instances       Size\n",
            "       7/10     0.719G     0.4105      2.116     0.8326          4        640: 100% 18/18 [00:03<00:00,  4.87it/s]\n",
            "                 Class     Images  Instances      Box(P          R      mAP50  mAP50-95): 100% 3/3 [00:00<00:00,  4.60it/s]\n",
            "                   all         20         20      0.506          1      0.588      0.543\n",
            "\n",
            "      Epoch    GPU_mem   box_loss   cls_loss   dfl_loss  Instances       Size\n",
            "       8/10     0.719G     0.3927      2.009     0.8255          4        640: 100% 18/18 [00:03<00:00,  5.54it/s]\n",
            "                 Class     Images  Instances      Box(P          R      mAP50  mAP50-95): 100% 3/3 [00:00<00:00,  6.71it/s]\n",
            "                   all         20         20      0.494          1      0.577      0.533\n",
            "\n",
            "      Epoch    GPU_mem   box_loss   cls_loss   dfl_loss  Instances       Size\n",
            "       9/10     0.719G     0.3762      2.016     0.8058          4        640: 100% 18/18 [00:02<00:00,  8.56it/s]\n",
            "                 Class     Images  Instances      Box(P          R      mAP50  mAP50-95): 100% 3/3 [00:00<00:00, 14.12it/s]\n",
            "                   all         20         20      0.494          1      0.621      0.575\n",
            "\n",
            "      Epoch    GPU_mem   box_loss   cls_loss   dfl_loss  Instances       Size\n",
            "      10/10     0.719G     0.3539      2.028      0.795          4        640: 100% 18/18 [00:01<00:00, 10.71it/s]\n",
            "                 Class     Images  Instances      Box(P          R      mAP50  mAP50-95): 100% 3/3 [00:00<00:00, 14.10it/s]\n",
            "                   all         20         20      0.495          1       0.62      0.575\n",
            "\n",
            "10 epochs completed in 0.012 hours.\n",
            "Optimizer stripped from /content/ultralytics/runs/detect/train2/weights/last.pt, 6.2MB\n",
            "Optimizer stripped from /content/ultralytics/runs/detect/train2/weights/best.pt, 6.2MB\n",
            "\n",
            "Validating /content/ultralytics/runs/detect/train2/weights/best.pt...\n",
            "Ultralytics YOLOv8.2.48 🚀 Python-3.10.12 torch-2.3.0+cu121 CUDA:0 (Tesla T4, 15102MiB)\n",
            "Model summary (fused): 168 layers, 3006038 parameters, 0 gradients, 8.1 GFLOPs\n",
            "                 Class     Images  Instances      Box(P          R      mAP50  mAP50-95): 100% 3/3 [00:00<00:00,  6.96it/s]\n",
            "                   all         20         20      0.494          1      0.614      0.568\n",
            "                    OK          9          9      0.439          1      0.555       0.51\n",
            "                    NG         11         11      0.549          1      0.672      0.626\n",
            "Speed: 0.7ms preprocess, 4.7ms inference, 0.0ms loss, 4.9ms postprocess per image\n",
            "Results saved to \u001b[1m/content/ultralytics/runs/detect/train2\u001b[0m\n",
            "💡 Learn more at https://docs.ultralytics.com/modes/train\n"
          ]
        }
      ],
      "source": [
        "%cd /content/\n",
        "\n",
        "!yolo task=detect mode=train \\\n",
        "epochs=10 \\\n",
        "batch=4 \\\n",
        "plots=True \\\n",
        "imgsz=640\\\n",
        "model=/content/weights/yolov8n.pt \\\n",
        "data=/content/datasets/data.yaml"
      ]
    },
    {
      "cell_type": "markdown",
      "source": [
        "##性能確認"
      ],
      "metadata": {
        "id": "kng7VlELnZOE"
      }
    },
    {
      "cell_type": "markdown",
      "source": [
        "###confusionマトリックス\n",
        "<p align=\"center\">\n",
        "  <img src=\"https://image.itmedia.co.jp/ait/articles/2208/08/l_di-01.gif\" width=50%>\n",
        " <br>\n",
        "  TPとTNの数が大きいほど性能が良い\n",
        "</p>"
      ],
      "metadata": {
        "id": "xl2VPwsNoK_O"
      }
    },
    {
      "cell_type": "code",
      "execution_count": null,
      "metadata": {
        "colab": {
          "base_uri": "https://localhost:8080/",
          "height": 654
        },
        "id": "_J35i8Ofhjxa",
        "outputId": "97748397-fb9e-4c79-9dd4-c69c4ef19b19"
      },
      "outputs": [
        {
          "output_type": "stream",
          "name": "stdout",
          "text": [
            "[Errno 2] No such file or directory: '{HOME}'\n",
            "/content\n"
          ]
        },
        {
          "output_type": "display_data",
          "data": {
            "text/plain": [
              "<Figure size 1000x1000 with 1 Axes>"
            ],
            "image/png": "[encoded data removed]"
          },
          "metadata": {}
        }
      ],
      "source": [
        "#@title confusionマトリックスを表示\n",
        "#@markdown 学習終了時に表示されるruns/detect/trainの後につく数を設定する。\n",
        "#@markdown ※数字がない場合は１を記入してください\n",
        "trainの後につく数字 = 2 # @param {type:\"number\"}\n",
        "%cd {HOME}\n",
        "from matplotlib import pyplot as plt\n",
        "import cv2\n",
        "\n",
        "if trainの後につく数字==1:\n",
        "    im = cv2.imread('/content/ultralytics/runs/detect/train/confusion_matrix.png')\n",
        "    plt.figure(figsize=(10,10))\n",
        "    plt.axis('off')\n",
        "    im_rgb = cv2.cvtColor(im, cv2.COLOR_BGR2RGB)\n",
        "    plt.imshow(im_rgb)\n",
        "else:\n",
        "    im = cv2.imread('/content/ultralytics/runs/detect/train'+str(trainの後につく数字)+'/confusion_matrix.png')\n",
        "    plt.figure(figsize=(10,10))\n",
        "    plt.axis('off')\n",
        "    im_rgb = cv2.cvtColor(im, cv2.COLOR_BGR2RGB)\n",
        "    plt.imshow(im_rgb)"
      ]
    },
    {
      "cell_type": "markdown",
      "source": [
        "##学習の推移\n",
        "重要な値は[metrics/mAP50](https://medium.com/axinc/map-%E7%89%A9%E4%BD%93%E6%A4%9C%E5%87%BA%E3%83%A2%E3%83%87%E3%83%AB%E3%81%AE%E8%A9%95%E4%BE%A1%E6%8C%87%E6%A8%99-956a786e8c3d#:~:text=AP%E3%81%AB%E3%81%A4%E3%81%84%E3%81%A6,%E3%81%AB%E3%81%AA%E3%82%8A%E3%81%BE%E3%81%99%E3%80%82)と[metrics/mAP50-90](https://docs.ultralytics.com/ja/guides/yolo-performance-metrics/#:~:text=mAP50%2D95%3A%200.50%E3%81%8B%E3%82%890.95%E3%81%BE%E3%81%A7%E3%81%AE%E6%A7%98%E3%80%85%E3%81%AAIoU%E9%96%BE%E5%80%A4%E3%81%A7%E8%A8%88%E7%AE%97%E3%81%95%E3%82%8C%E3%81%9F%E5%B9%B3%E5%9D%87%E5%B9%B3%E5%9D%87%E7%B2%BE%E5%BA%A6%E3%80%82%E7%95%B0%E3%81%AA%E3%82%8B%E6%A4%9C%E5%87%BA%E9%9B%A3%E6%98%93%E5%BA%A6%E3%81%AB%E3%81%8A%E3%81%91%E3%82%8B%E3%83%A2%E3%83%87%E3%83%AB%E3%81%AE%E3%83%91%E3%83%95%E3%82%A9%E3%83%BC%E3%83%9E%E3%83%B3%E3%82%B9%E3%82%92%E5%8C%85%E6%8B%AC%E7%9A%84%E3%81%AB%E8%A6%8B%E3%82%8B%E3%81%93%E3%81%A8%E3%81%8C%E3%81%A7%E3%81%8D%E3%82%8B%E3%80%82)この二つが１に近いほど性能が良い\n",
        "\n",
        "*   [metorics/recall(B)](https://medium.com/axinc/map-%E7%89%A9%E4%BD%93%E6%A4%9C%E5%87%BA%E3%83%A2%E3%83%87%E3%83%AB%E3%81%AE%E8%A9%95%E4%BE%A1%E6%8C%87%E6%A8%99-956a786e8c3d#:~:text=Precision%E3%81%AF%E6%A4%9C%E5%87%BA%E3%81%97%E3%81%9F%E3%83%90%E3%82%A6%E3%83%B3%E3%83%87%E3%82%A3%E3%83%B3%E3%82%B0%E3%83%9C%E3%83%83%E3%82%AF%E3%82%B9%E3%81%8C%E6%AD%A3%E3%81%97%E3%81%84%E6%AF%94%E7%8E%87%E3%82%92%E7%A4%BA%E3%81%97%E3%81%BE%E3%81%99%E3%80%82%E9%96%93%E9%81%95%E3%81%A3%E3%81%9F%E3%83%90%E3%82%A6%E3%83%B3%E3%83%87%E3%82%A3%E3%83%B3%E3%82%B0%E3%83%9C%E3%83%83%E3%82%AF%E3%82%B9%E3%82%92%E9%81%8E%E5%89%B0%E3%81%AB%E6%A4%9C%E5%87%BA%E3%81%97%E3%81%A6%E3%81%97%E3%81%BE%E3%81%86%E9%81%8E%E6%A4%9C%E5%87%BA%E3%81%8C%E3%81%AA%E3%81%91%E3%82%8C%E3%81%B01.0%E3%81%AB%E3%81%AA%E3%82%8A%E3%81%BE%E3%81%99%E3%80%82%E3%81%9F%E3%81%A0%E3%81%97%E3%80%81%E6%A4%9C%E5%87%BA%E3%81%99%E3%81%B9%E3%81%8D%E3%83%90%E3%82%A6%E3%83%B3%E3%83%87%E3%82%A3%E3%83%B3%E3%82%B0%E3%83%9C%E3%83%83%E3%82%AF%E3%82%B9%E3%82%92%E6%A4%9C%E5%87%BA%E3%81%A7%E3%81%8D%E3%81%A6%E3%81%84%E3%81%AA%E3%81%84%E3%80%81%E6%9C%AA%E6%A4%9C%E5%87%BA%E3%81%8C%E3%81%82%E3%81%A3%E3%81%A6%E3%82%821.0%E3%81%AB%E3%81%AA%E3%82%8A%E3%81%BE%E3%81%99%E3%80%82):検出したバウンディングボックスが正しい比率\n",
        "*   [metorics/presicion(B)](https://medium.com/axinc/map-%E7%89%A9%E4%BD%93%E6%A4%9C%E5%87%BA%E3%83%A2%E3%83%87%E3%83%AB%E3%81%AE%E8%A9%95%E4%BE%A1%E6%8C%87%E6%A8%99-956a786e8c3d#:~:text=Recall%E3%81%AF%E6%A4%9C%E5%87%BA%E3%81%99%E3%81%B9%E3%81%8D%E3%83%90%E3%82%A6%E3%83%B3%E3%83%87%E3%82%A3%E3%83%B3%E3%82%B0%E3%83%9C%E3%83%83%E3%82%AF%E3%82%B9%E3%82%92%E6%A4%9C%E5%87%BA%E3%81%A7%E3%81%8D%E3%81%A6%E3%81%84%E3%82%8B%E6%AF%94%E7%8E%87%E3%82%92%E7%A4%BA%E3%81%97%E3%81%BE%E3%81%99%E3%80%82%E6%A4%9C%E5%87%BA%E3%81%99%E3%81%B9%E3%81%8D%E3%83%90%E3%82%A6%E3%83%B3%E3%83%87%E3%82%A3%E3%83%B3%E3%82%B0%E3%83%9C%E3%83%83%E3%82%AF%E3%82%B9%E3%82%92%E6%A4%9C%E5%87%BA%E3%81%A7%E3%81%8D%E3%81%A6%E3%81%84%E3%81%AA%E3%81%84%E6%9C%AA%E6%A4%9C%E5%87%BA%E3%81%8C%E3%81%AA%E3%81%91%E3%82%8C%E3%81%B01.0%E3%81%AB%E3%81%AA%E3%82%8A%E3%81%BE%E3%81%99%E3%80%82%E3%81%9F%E3%81%A0%E3%81%97%E3%80%81%E9%96%93%E9%81%95%E3%81%A3%E3%81%9F%E3%83%90%E3%82%A6%E3%83%B3%E3%83%87%E3%82%A3%E3%83%B3%E3%82%B0%E3%83%9C%E3%83%83%E3%82%AF%E3%82%B9%E3%82%92%E9%81%8E%E5%89%B0%E3%81%AB%E6%A4%9C%E5%87%BA%E3%81%97%E3%81%A6%E3%81%97%E3%81%BE%E3%81%86%E9%81%8E%E6%A4%9C%E5%87%BA%E3%81%8C%E3%81%82%E3%81%A3%E3%81%A6%E3%82%821.0%E3%81%AB%E3%81%AA%E3%82%8A%E3%81%BE%E3%81%99%E3%80%82):検出すべきバウンディングボックスを検出できている比率\n",
        "\n"
      ],
      "metadata": {
        "id": "QbnbxcnKqOv1"
      }
    },
    {
      "cell_type": "code",
      "execution_count": null,
      "metadata": {
        "colab": {
          "base_uri": "https://localhost:8080/",
          "height": 460
        },
        "id": "A-urTWUkhRmn",
        "outputId": "78ff5122-2cf6-4379-e55d-7fa66326d076",
        "cellView": "form"
      },
      "outputs": [
        {
          "output_type": "stream",
          "name": "stdout",
          "text": [
            "[Errno 2] No such file or directory: '{HOME}'\n",
            "/content\n"
          ]
        },
        {
          "output_type": "display_data",
          "data": {
            "text/plain": [
              "<Figure size 1000x1000 with 1 Axes>"
            ],
            "image/png": "[encoded data removed]"
          },
          "metadata": {}
        }
      ],
      "source": [
        "#@title 学習の推移を表示\n",
        "\n",
        "#@markdown 学習終了時に表示されるruns/detect/trainの後につく数を設定する。\n",
        "#@markdown ※数字がない場合は１を記入してください\n",
        "\n",
        "trainの後につく数字 = 2 # @param {type:\"number\"}\n",
        "%cd {HOME}\n",
        "from matplotlib import pyplot as plt\n",
        "import cv2\n",
        "\n",
        "if trainの後につく数字==1:\n",
        "    im = cv2.imread('/content/ultralytics/runs/detect/train/results.png')\n",
        "    plt.figure(figsize=(10,10))\n",
        "    plt.axis('off')\n",
        "    im_rgb = cv2.cvtColor(im, cv2.COLOR_BGR2RGB)\n",
        "    plt.imshow(im_rgb)\n",
        "else:\n",
        "    im = cv2.imread('/content/ultralytics/runs/detect/train'+str(trainの後につく数字)+'/results.png')\n",
        "    plt.figure(figsize=(10,10))\n",
        "    plt.axis('off')\n",
        "    im_rgb = cv2.cvtColor(im, cv2.COLOR_BGR2RGB)\n",
        "    plt.imshow(im_rgb)"
      ]
    },
    {
      "cell_type": "code",
      "source": [
        "##@title **注意**：学習が終了したら、重みをdriveのフォルダに移しておくこと、タブを消去すると計算結果がすべて消える\n",
        "\n",
        "#@markdown 学習終了時に表示されるruns/detect/trainの後につく数を設定してdriveへ重みを移動\n",
        "trainの後につく数字 = 2 # @param {type:\"number\"}\n",
        "\n",
        "#グーグルドライブにコピー\n",
        "%cd {HOME}\n",
        "from IPython.display import Image\n",
        "if trainの後につく数字==1:\n",
        "  shutil.copyfile(\"/content/ultralytics/runs/detect/train/weights/best.pt\",\"/content/drive/MyDrive/best.pt\")\n",
        "else:\n",
        "  shutil.copyfile(\"/content/ultralytics/runs/detect/train\"+str(trainの後につく数字)+\"/weights/best.pt\",\"/content/drive/MyDrive/best\"+str(trainの後につく数字)+\".pt\")"
      ],
      "metadata": {
        "cellView": "form",
        "id": "-yGifq4O5VBt",
        "outputId": "8ca8897c-1b09-434e-d681-05fb046c68e0",
        "colab": {
          "base_uri": "https://localhost:8080/"
        }
      },
      "execution_count": null,
      "outputs": [
        {
          "output_type": "stream",
          "name": "stdout",
          "text": [
            "/content\n"
          ]
        }
      ]
    },
    {
      "cell_type": "markdown",
      "source": [
        "##学習したAIによる推論"
      ],
      "metadata": {
        "id": "Sh6h0MOEy2WX"
      }
    },
    {
      "cell_type": "markdown",
      "source": [
        "下に書いてある項目を設定し、推論をスタートさせる\n",
        "\n",
        "\n",
        "*   modelには学習した重みまでのパスを設定する\n",
        "*   confは確度が何％になったら枠を表示するのか\n",
        "*   imgszは推論に使う画像のサイズ\n",
        "*   show_confは確度を表示するかどうか\n",
        "*   save_txtは枠の座標を記録するかどうか（必ずTrueにすること）\n",
        "*   deviceはGPUを使うかどうか（そのままで）\n",
        "*   sourceは推論する画像のフォルダまでのパス（そのままで）"
      ],
      "metadata": {
        "id": "688HotNu2zp8"
      }
    },
    {
      "cell_type": "code",
      "source": [
        "%cd /content/\n",
        "\n",
        "!yolo task=detect \\\n",
        "      mode=predict \\\n",
        "      model= /content/ultralytics/runs/detect/train2/weights/best.pt\\\n",
        "      conf=0.4 \\\n",
        "      imgsz=640\\\n",
        "      show_conf=False \\\n",
        "      save_txt=True \\\n",
        "      device=0\\\n",
        "      source=\"/content/datasets/test/images\""
      ],
      "metadata": {
        "id": "kdr5Gij8pvzt",
        "outputId": "76e4511a-f687-4ac5-a2b6-c2801c280549",
        "colab": {
          "base_uri": "https://localhost:8080/"
        }
      },
      "execution_count": null,
      "outputs": [
        {
          "output_type": "stream",
          "name": "stdout",
          "text": [
            "/content\n",
            "Ultralytics YOLOv8.2.48 🚀 Python-3.10.12 torch-2.3.0+cu121 CUDA:0 (Tesla T4, 15102MiB)\n",
            "Model summary (fused): 168 layers, 3006038 parameters, 0 gradients, 8.1 GFLOPs\n",
            "\n",
            "/usr/local/lib/python3.10/dist-packages/torch/nn/modules/conv.py:456: UserWarning: Plan failed with a cudnnException: CUDNN_BACKEND_EXECUTION_PLAN_DESCRIPTOR: cudnnFinalize Descriptor Failed cudnn_status: CUDNN_STATUS_NOT_SUPPORTED (Triggered internally at ../aten/src/ATen/native/cudnn/Conv_v8.cpp:919.)\n",
            "  return F.conv2d(input, weight, bias, self.stride,\n",
            "image 1/8 /content/datasets/test/images/001 (3).jpg: 640x480 1 OK, 1 NG, 96.4ms\n",
            "image 2/8 /content/datasets/test/images/004 (4).jpg: 640x480 1 OK, 6.4ms\n",
            "image 3/8 /content/datasets/test/images/007 (7).jpg: 640x480 1 OK, 6.0ms\n",
            "image 4/8 /content/datasets/test/images/010 (3).jpg: 640x480 1 OK, 6.0ms\n",
            "image 5/8 /content/datasets/test/images/010 (4).jpg: 640x480 1 OK, 1 NG, 6.0ms\n",
            "image 6/8 /content/datasets/test/images/015 (3).jpg: 640x480 1 OK, 5.9ms\n",
            "image 7/8 /content/datasets/test/images/015 (4).jpg: 640x480 1 OK, 1 NG, 5.9ms\n",
            "image 8/8 /content/datasets/test/images/017 (2).jpg: 640x480 1 OK, 1 NG, 5.9ms\n",
            "Speed: 1.3ms preprocess, 17.3ms inference, 72.0ms postprocess per image at shape (1, 3, 640, 480)\n",
            "Results saved to \u001b[1m/content/ultralytics/runs/detect/predict\u001b[0m\n",
            "8 labels saved to /content/ultralytics/runs/detect/predict/labels\n",
            "💡 Learn more at https://docs.ultralytics.com/modes/predict\n"
          ]
        }
      ]
    },
    {
      "cell_type": "markdown",
      "source": [
        "##学習済みモデルをTensorFlow Liteモデルに変換"
      ],
      "metadata": {
        "id": "yPvxP0QNbDX-"
      }
    },
    {
      "cell_type": "code",
      "source": [
        "!yolo export model=/content/ultralytics/runs/detect/train2/weights/best.pt format=tflite"
      ],
      "metadata": {
        "id": "DBygJICNgKKK",
        "outputId": "fbc4bb5c-08aa-482b-f75f-0a1ccfe268f3",
        "colab": {
          "base_uri": "https://localhost:8080/"
        }
      },
      "execution_count": null,
      "outputs": [
        {
          "output_type": "stream",
          "name": "stdout",
          "text": [
            "Ultralytics YOLOv8.2.48 🚀 Python-3.10.12 torch-2.3.0+cu121 CPU (Intel Xeon 2.20GHz)\n",
            "Model summary (fused): 168 layers, 3006038 parameters, 0 gradients, 8.1 GFLOPs\n",
            "\n",
            "\u001b[34m\u001b[1mPyTorch:\u001b[0m starting from '/content/ultralytics/runs/detect/train2/weights/best.pt' with input shape (1, 3, 640, 640) BCHW and output shape(s) (1, 6, 8400) (5.9 MB)\n",
            "\u001b[31m\u001b[1mrequirements:\u001b[0m Ultralytics requirements ['sng4onnx>=1.0.1', 'onnx_graphsurgeon>=0.3.26', 'onnx>=1.12.0', 'onnx2tf>1.17.5,<=1.22.3', 'onnxslim>=0.1.31', 'tflite_support', 'onnxruntime'] not found, attempting AutoUpdate...\n",
            "Looking in indexes: https://pypi.org/simple, https://pypi.ngc.nvidia.com\n",
            "Collecting sng4onnx>=1.0.1\n",
            "  Downloading sng4onnx-1.0.4-py3-none-any.whl (5.9 kB)\n",
            "Collecting onnx_graphsurgeon>=0.3.26\n",
            "  Downloading onnx_graphsurgeon-0.5.2-py2.py3-none-any.whl (56 kB)\n",
            "     ━━━━━━━━━━━━━━━━━━━━━━━━━━━━━━━━━━━━━━━━ 56.4/56.4 kB 3.7 MB/s eta 0:00:00\n",
            "Collecting onnx>=1.12.0\n",
            "  Downloading onnx-1.16.1-cp310-cp310-manylinux_2_17_x86_64.manylinux2014_x86_64.whl (15.9 MB)\n",
            "     ━━━━━━━━━━━━━━━━━━━━━━━━━━━━━━━━━━━━━━━━ 15.9/15.9 MB 78.4 MB/s eta 0:00:00\n",
            "Collecting onnx2tf<=1.22.3,>1.17.5\n",
            "  Downloading onnx2tf-1.22.3-py3-none-any.whl (435 kB)\n",
            "     ━━━━━━━━━━━━━━━━━━━━━━━━━━━━━━━━━━━━━━━━ 435.0/435.0 kB 286.1 MB/s eta 0:00:00\n",
            "Collecting onnxslim>=0.1.31\n",
            "  Downloading onnxslim-0.1.31-py3-none-any.whl (128 kB)\n",
            "     ━━━━━━━━━━━━━━━━━━━━━━━━━━━━━━━━━━━━━━━━ 128.4/128.4 kB 317.5 MB/s eta 0:00:00\n",
            "Collecting tflite_support\n",
            "  Downloading tflite_support-0.4.4-cp310-cp310-manylinux2014_x86_64.whl (60.8 MB)\n",
            "     ━━━━━━━━━━━━━━━━━━━━━━━━━━━━━━━━━━━━━━━━ 60.8/60.8 MB 249.7 MB/s eta 0:00:00\n",
            "Collecting onnxruntime\n",
            "  Downloading onnxruntime-1.18.1-cp310-cp310-manylinux_2_27_x86_64.manylinux_2_28_x86_64.whl (6.8 MB)\n",
            "     ━━━━━━━━━━━━━━━━━━━━━━━━━━━━━━━━━━━━━━━━ 6.8/6.8 MB 247.0 MB/s eta 0:00:00\n",
            "Requirement already satisfied: numpy in /usr/local/lib/python3.10/dist-packages (from onnx_graphsurgeon>=0.3.26) (1.25.2)\n",
            "Requirement already satisfied: protobuf>=3.20.2 in /usr/local/lib/python3.10/dist-packages (from onnx>=1.12.0) (3.20.3)\n",
            "Requirement already satisfied: sympy in /usr/local/lib/python3.10/dist-packages (from onnxslim>=0.1.31) (1.12.1)\n",
            "Requirement already satisfied: packaging in /usr/local/lib/python3.10/dist-packages (from onnxslim>=0.1.31) (24.1)\n",
            "Requirement already satisfied: absl-py>=0.7.0 in /usr/local/lib/python3.10/dist-packages (from tflite_support) (1.4.0)\n",
            "Requirement already satisfied: flatbuffers>=2.0 in /usr/local/lib/python3.10/dist-packages (from tflite_support) (24.3.25)\n",
            "Collecting sounddevice>=0.4.4 (from tflite_support)\n",
            "  Downloading sounddevice-0.4.7-py3-none-any.whl (32 kB)\n",
            "Collecting pybind11>=2.6.0 (from tflite_support)\n",
            "  Downloading pybind11-2.13.1-py3-none-any.whl (238 kB)\n",
            "     ━━━━━━━━━━━━━━━━━━━━━━━━━━━━━━━━━━━━━━━━ 238.8/238.8 kB 300.5 MB/s eta 0:00:00\n",
            "Collecting coloredlogs (from onnxruntime)\n",
            "  Downloading coloredlogs-15.0.1-py2.py3-none-any.whl (46 kB)\n",
            "     ━━━━━━━━━━━━━━━━━━━━━━━━━━━━━━━━━━━━━━━━ 46.0/46.0 kB 213.0 MB/s eta 0:00:00\n",
            "Requirement already satisfied: CFFI>=1.0 in /usr/local/lib/python3.10/dist-packages (from sounddevice>=0.4.4->tflite_support) (1.16.0)\n",
            "Collecting humanfriendly>=9.1 (from coloredlogs->onnxruntime)\n",
            "  Downloading humanfriendly-10.0-py2.py3-none-any.whl (86 kB)\n",
            "     ━━━━━━━━━━━━━━━━━━━━━━━━━━━━━━━━━━━━━━━━ 86.8/86.8 kB 196.7 MB/s eta 0:00:00\n",
            "Requirement already satisfied: mpmath<1.4.0,>=1.1.0 in /usr/local/lib/python3.10/dist-packages (from sympy->onnxslim>=0.1.31) (1.3.0)\n",
            "Requirement already satisfied: pycparser in /usr/local/lib/python3.10/dist-packages (from CFFI>=1.0->sounddevice>=0.4.4->tflite_support) (2.22)\n",
            "Installing collected packages: sng4onnx, pybind11, onnx2tf, onnx, humanfriendly, sounddevice, onnxslim, onnx_graphsurgeon, coloredlogs, tflite_support, onnxruntime\n",
            "Successfully installed coloredlogs-15.0.1 humanfriendly-10.0 onnx-1.16.1 onnx2tf-1.22.3 onnx_graphsurgeon-0.5.2 onnxruntime-1.18.1 onnxslim-0.1.31 pybind11-2.13.1 sng4onnx-1.0.4 sounddevice-0.4.7 tflite_support-0.4.4\n",
            "\n",
            "\u001b[31m\u001b[1mrequirements:\u001b[0m AutoUpdate success ✅ 16.9s, installed 7 packages: ['sng4onnx>=1.0.1', 'onnx_graphsurgeon>=0.3.26', 'onnx>=1.12.0', 'onnx2tf>1.17.5,<=1.22.3', 'onnxslim>=0.1.31', 'tflite_support', 'onnxruntime']\n",
            "\u001b[31m\u001b[1mrequirements:\u001b[0m ⚠️ \u001b[1mRestart runtime or rerun command for updates to take effect\u001b[0m\n",
            "\n",
            "\n",
            "\u001b[34m\u001b[1mTensorFlow SavedModel:\u001b[0m starting export with tensorflow 2.15.0...\n",
            "Downloading https://github.com/ultralytics/assets/releases/download/v8.2.0/calibration_image_sample_data_20x128x128x3_float32.npy.zip to 'calibration_image_sample_data_20x128x128x3_float32.npy.zip'...\n",
            "100% 1.11M/1.11M [00:00<00:00, 39.3MB/s]\n",
            "Unzipping calibration_image_sample_data_20x128x128x3_float32.npy.zip to /content/calibration_image_sample_data_20x128x128x3_float32.npy...: 100% 1/1 [00:00<00:00, 48.03file/s]\n",
            "\n",
            "\u001b[34m\u001b[1mONNX:\u001b[0m starting export with onnx 1.16.1 opset 17...\n",
            "\u001b[34m\u001b[1mONNX:\u001b[0m slimming with onnxslim 0.1.31...\n",
            "\u001b[34m\u001b[1mONNX:\u001b[0m export success ✅ 2.4s, saved as '/content/ultralytics/runs/detect/train2/weights/best.onnx' (11.8 MB)\n",
            "\u001b[34m\u001b[1mTensorFlow SavedModel:\u001b[0m starting TFLite export with onnx2tf 1.22.3...\n",
            "Summary on the non-converted ops:\n",
            "---------------------------------\n",
            " * Accepted dialects: tfl, builtin, func\n",
            " * Non-Converted Ops: 155, Total Ops 410, % non-converted = 37.80 %\n",
            " * 155 ARITH ops\n",
            "\n",
            "- arith.constant:  155 occurrences  (f32: 131, i32: 24)\n",
            "\n",
            "\n",
            "\n",
            "  (f32: 8)\n",
            "  (f32: 18)\n",
            "  (f32: 64)\n",
            "  (f32: 58)\n",
            "  (f32: 3)\n",
            "  (f32: 59)\n",
            "  (f32: 7)\n",
            "  (f32: 6)\n",
            "  (f32: 2)\n",
            "  (f32: 1)\n",
            "  (f32: 20)\n",
            "  (f32: 2)\n",
            "  (f32: 4)\n",
            "Summary on the non-converted ops:\n",
            "---------------------------------\n",
            " * Accepted dialects: tfl, builtin, func\n",
            " * Non-Converted Ops: 155, Total Ops 541, % non-converted = 28.65 %\n",
            " * 155 ARITH ops\n",
            "\n",
            "- arith.constant:  155 occurrences  (f16: 131, i32: 24)\n",
            "\n",
            "\n",
            "\n",
            "  (f32: 8)\n",
            "  (f32: 18)\n",
            "  (f32: 64)\n",
            "  (f32: 131)\n",
            "  (f32: 58)\n",
            "  (f32: 3)\n",
            "  (f32: 59)\n",
            "  (f32: 7)\n",
            "  (f32: 6)\n",
            "  (f32: 2)\n",
            "  (f32: 1)\n",
            "  (f32: 20)\n",
            "  (f32: 2)\n",
            "  (f32: 4)\n",
            "\u001b[34m\u001b[1mTensorFlow SavedModel:\u001b[0m export success ✅ 43.1s, saved as '/content/ultralytics/runs/detect/train2/weights/best_saved_model' (29.5 MB)\n",
            "\n",
            "\u001b[34m\u001b[1mTensorFlow Lite:\u001b[0m starting export with tensorflow 2.15.0...\n",
            "\u001b[34m\u001b[1mTensorFlow Lite:\u001b[0m export success ✅ 0.0s, saved as '/content/ultralytics/runs/detect/train2/weights/best_saved_model/best_float32.tflite' (11.7 MB)\n",
            "\n",
            "Export complete (45.2s)\n",
            "Results saved to \u001b[1m/content/ultralytics/runs/detect/train2/weights\u001b[0m\n",
            "Predict:         yolo predict task=detect model=/content/ultralytics/runs/detect/train2/weights/best_saved_model/best_float32.tflite imgsz=640  \n",
            "Validate:        yolo val task=detect model=/content/ultralytics/runs/detect/train2/weights/best_saved_model/best_float32.tflite imgsz=640 data=/content/datasets/data.yaml  \n",
            "Visualize:       https://netron.app\n",
            "💡 Learn more at https://docs.ultralytics.com/modes/export\n"
          ]
        }
      ]
    },
    {
      "cell_type": "code",
      "source": [
        "#@title モデルをダウンロード\n",
        "\n",
        "#@markdown 学習終了時に表示される/content/ultralytics/runs/detect/trainの後につく数を設定する。\n",
        "#@markdown ※数字がない場合は１を記入してください\n",
        "\n",
        "trainの後につく数字 = 2 # @param {type:\"number\"}\n",
        "import shutil\n",
        "import os\n",
        "from google.colab import files\n",
        "\n",
        "if trainの後につく数字==1:\n",
        "    files.download('/content/ultralytics/runs/detect/train/weights/best_saved_model/best_float32.tflite')\n",
        "else:\n",
        "    files.download('/content/ultralytics/runs/detect/train'+str(trainの後につく数字)+'/weights/best_saved_model/best_float32.tflite')"
      ],
      "metadata": {
        "cellView": "form",
        "id": "FhZ1Lt_Ne8ur",
        "outputId": "1f52441a-11e1-4e81-ba2e-b7829944dbd8",
        "colab": {
          "base_uri": "https://localhost:8080/",
          "height": 17
        }
      },
      "execution_count": null,
      "outputs": [
        {
          "output_type": "display_data",
          "data": {
            "text/plain": [
              "<IPython.core.display.Javascript object>"
            ],
            "application/javascript": [
              "\n",
              "    async function download(id, filename, size) {\n",
              "      if (!google.colab.kernel.accessAllowed) {\n",
              "        return;\n",
              "      }\n",
              "      const div = document.createElement('div');\n",
              "      const label = document.createElement('label');\n",
              "      label.textContent = `Downloading \"${filename}\": `;\n",
              "      div.appendChild(label);\n",
              "      const progress = document.createElement('progress');\n",
              "      progress.max = size;\n",
              "      div.appendChild(progress);\n",
              "      document.body.appendChild(div);\n",
              "\n",
              "      const buffers = [];\n",
              "      let downloaded = 0;\n",
              "\n",
              "      const channel = await google.colab.kernel.comms.open(id);\n",
              "      // Send a message to notify the kernel that we're ready.\n",
              "      channel.send({})\n",
              "\n",
              "      for await (const message of channel.messages) {\n",
              "        // Send a message to notify the kernel that we're ready.\n",
              "        channel.send({})\n",
              "        if (message.buffers) {\n",
              "          for (const buffer of message.buffers) {\n",
              "            buffers.push(buffer);\n",
              "            downloaded += buffer.byteLength;\n",
              "            progress.value = downloaded;\n",
              "          }\n",
              "        }\n",
              "      }\n",
              "      const blob = new Blob(buffers, {type: 'application/binary'});\n",
              "      const a = document.createElement('a');\n",
              "      a.href = window.URL.createObjectURL(blob);\n",
              "      a.download = filename;\n",
              "      div.appendChild(a);\n",
              "      a.click();\n",
              "      div.remove();\n",
              "    }\n",
              "  "
            ]
          },
          "metadata": {}
        },
        {
          "output_type": "display_data",
          "data": {
            "text/plain": [
              "<IPython.core.display.Javascript object>"
            ],
            "application/javascript": [
              "download(\"download_e41aa052-3e85-4cb0-89bf-2a1b53d35b5b\", \"best_float32.tflite\", 12289863)"
            ]
          },
          "metadata": {}
        }
      ]
    },
    {
      "cell_type": "markdown",
      "source": [
        "#アプリを作成"
      ],
      "metadata": {
        "id": "1cD2vEFI7tky"
      }
    },
    {
      "cell_type": "markdown",
      "source": [
        "##android studioをインストール\n",
        "\n",
        "Androidアプリを開発するための公式の開発ツール。[インストールチュートリアル](https://developer.android.com/codelabs/basic-android-kotlin-compose-install-android-studio?hl=ja#0)に従ってインストールする"
      ],
      "metadata": {
        "id": "IPgKZ8zrATZR"
      }
    },
    {
      "cell_type": "markdown",
      "source": [
        "##画像解析アプリ作成用パッケージをダウンロード\n",
        "[ここ](https://github.com/1900690/yolov8-android/releases/download/android_app/android_app.zip)をクリックして必要なパッケージをダウンロードする。ダウンロードしたら解凍すること。\n"
      ],
      "metadata": {
        "id": "JfjHFJ0I-oIH"
      }
    },
    {
      "cell_type": "markdown",
      "source": [
        "##パッケージを開く\n",
        "<p align=\"center\">\n",
        "  <img src=\"https://github.com/1900690/yolov8-android/blob/main/images/%E8%A7%A3%E8%AA%AC%EF%BC%92.png?raw=1\" width=80%>\n",
        " <br>\n",
        "  android studioを開いたら、右上の[open]をクリックして、先ほどダウンロードしたパッケージの[android_app]を選択して[OK]を押す\n",
        "</p>"
      ],
      "metadata": {
        "id": "rHuM5XdnHaP4"
      }
    },
    {
      "cell_type": "markdown",
      "source": [
        "##学習したAIに置き換える\n",
        "1.   \\android_app\\app\\src\\main\\assetsの中の`labels.txt`を開き検出したいclassの名前に書き換える\n",
        "2.   ダウンロードしておいた学習済みモデルの名前を`model.tflite`と書き換え\\android_app\\app\\src\\main\\assetsの中に入れる\n",
        "\n"
      ],
      "metadata": {
        "id": "8apH-hkXJ4nv"
      }
    },
    {
      "cell_type": "markdown",
      "source": [
        "##`.apk`ファイルを作成\n",
        "<p align=\"center\">\n",
        "  <img src=\"https://github.com/1900690/yolov8-android/blob/main/images/%E8%A7%A3%E8%AA%AC%EF%BC%93.png?raw=1\" width=80%>\n",
        " <br>\n",
        "  右上の象のマークをクリックして同期する\n",
        "</p>\n",
        "<p align=\"center\">\n",
        "  <img src=\"https://github.com/1900690/yolov8-android/blob/main/images/%E8%A7%A3%E8%AA%AC%EF%BC%94.png?raw=1\" width=80%>\n",
        " <br>\n",
        "  左上のメニューバーから`Build`→`Build App Bundle(s)/APK(s)`→`Build APK(s)`をクリックしてAPKファイルを作成\n",
        "</p>\n",
        "\n"
      ],
      "metadata": {
        "id": "Sly0nnVyKjcK"
      }
    },
    {
      "cell_type": "markdown",
      "source": [
        "##アプリインストール\n",
        "\n",
        "1.   作成した[APKファイル](https://gimo.jp/glossary/details/apk_file.html#:~:text=APK%E3%83%95%E3%82%A1%E3%82%A4%E3%83%AB-,APK%E3%83%95%E3%82%A1%E3%82%A4%E3%83%AB,%E3%81%AE%E7%95%A5%E7%A7%B0%E3%81%A7%E3%81%99%E3%80%82%E6%8B%A1%E5%BC%B5%E5%AD%90%E3%81%8CAPK%E3%81%AE%E3%83%95%E3%82%A1%E3%82%A4%E3%83%AB%E3%81%A8%E3%81%AA%E3%82%8A%E3%81%BE%E3%81%99%E3%80%82,-Android%E3%82%B9%E3%83%9E%E3%83%BC%E3%83%88%E3%83%95%E3%82%A9%E3%83%B3)\n",
        "をアプリインストールさせたいアンドロイドスマホやスマートグラスへ移動させる\n",
        "2.   [インストール許可](https://gimo.jp/glossary/details/apk_file.html#:~:text=%E9%80%9A%E5%B8%B8APK%E3%83%95%E3%82%A1%E3%82%A4%E3%83%AB%E3%81%AFGoogle%20Play%E3%81%A8%E3%81%84%E3%81%86%E6%AD%A3%E5%BC%8F%E3%81%AA%E9%85%8D%E5%B8%83%E5%85%83%E3%81%8B%E3%82%89%E3%83%87%E3%82%B8%E3%82%BF%E3%83%AB%E7%BD%B2%E5%90%8D%E4%BB%98%E3%81%8D%E3%81%AE%E3%82%82%E3%81%AE%E3%82%92%E3%82%A4%E3%83%B3%E3%82%B9%E3%83%88%E3%83%BC%E3%83%AB%E3%81%97%E3%81%BE%E3%81%99%E3%80%82%E3%81%97%E3%81%8B%E3%81%97%E3%80%81%E8%87%AA%E8%BA%AB%E3%81%8C%E3%83%97%E3%83%AD%E3%82%B0%E3%83%A9%E3%83%9F%E3%83%B3%E3%82%B0%E3%81%AB%E3%82%88%E3%81%A3%E3%81%A6%E4%BD%9C%E8%A3%BD%E3%81%97%E3%81%9FAPK%E3%83%95%E3%82%A1%E3%82%A4%E3%83%AB%E3%81%AF%E9%9D%9E%E5%85%AC%E5%BC%8F%E3%81%AEAPK%E3%81%A8%E3%81%AA%E3%82%8A%E3%81%BE%E3%81%99%E3%81%AE%E3%81%A7%E3%80%81%E3%81%93%E3%82%8C%E3%82%92%E3%82%A4%E3%83%B3%E3%82%B9%E3%83%88%E3%83%BC%E3%83%AB%E3%81%99%E3%82%8B%E5%A0%B4%E5%90%88%E3%81%AF%E3%80%81%E3%82%B9%E3%83%9E%E3%83%BC%E3%83%88%E3%83%95%E3%82%A9%E3%83%B3%E7%AB%AF%E6%9C%AB%E3%81%8B%E3%82%89%E3%80%8C%E8%A8%AD%E5%AE%9A%E3%80%8D%E2%86%92%E3%80%8C%E3%82%BB%E3%82%AD%E3%83%A5%E3%83%AA%E3%83%86%E3%82%A3%E3%80%8D%E2%86%92%E3%80%8C%E6%8F%90%E4%BE%9B%E5%85%83%E4%B8%8D%E6%98%8E%E3%81%AE%E3%82%A2%E3%83%97%E3%83%AA%E3%80%8D%E3%81%A7%E3%82%A4%E3%83%B3%E3%82%B9%E3%83%88%E3%83%BC%E3%83%AB%E8%A8%B1%E5%8F%AF%E3%82%92%E8%A8%AD%E5%AE%9A%E3%81%99%E3%82%8B%E5%BF%85%E8%A6%81%E3%81%8C%E3%81%82%E3%82%8A%E3%81%BE%E3%81%99%E3%80%82)を設定してインストールする\n",
        "\n"
      ],
      "metadata": {
        "id": "kjjftRfGNagG"
      }
    },
    {
      "cell_type": "markdown",
      "source": [
        "##実行例\n",
        "\n",
        "<p align=\"center\">\n",
        "  <img src=\"https://github.com/1900690/yolov8-android/blob/main/images/%E8%A7%A3%E8%AA%AC%EF%BC%95.png?raw=1\" width=80%>\n",
        "</p>"
      ],
      "metadata": {
        "id": "nDd8hYRsQuQs"
      }
    }
  ],
  "metadata": {
    "colab": {
      "provenance": [],
      "toc_visible": true,
      "gpuType": "T4",
      "include_colab_link": true
    },
    "kernelspec": {
      "display_name": "Python 3",
      "name": "python3"
    },
    "language_info": {
      "name": "python"
    }
  },
  "nbformat": 4,
  "nbformat_minor": 0
}